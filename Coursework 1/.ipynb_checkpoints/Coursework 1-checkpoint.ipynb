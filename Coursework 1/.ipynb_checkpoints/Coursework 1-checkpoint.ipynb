{
 "cells": [
  {
   "cell_type": "code",
   "execution_count": null,
   "id": "b0979f03-1e46-45fb-87f3-a5103c6d0e34",
   "metadata": {},
   "outputs": [],
   "source": [
    "import pandas as pd\n",
    "import matplotlib.pyplot as plt\n",
    "\n",
    "# Assuming '/mnt/data/population.csv' is your CSV file path\n",
    "file_path = 'population.csv'\n",
    "\n",
    "# Read the CSV data into a DataFrame\n",
    "df = pd.read_csv(file_path)\n",
    "\n",
    "# Filter out the columns needed for the bar chart\n",
    "# Assuming the columns for age groups are labeled consistently with 'Female' or 'Male'\n",
    "age_gender_columns = [col for col in df.columns if 'Female' in col or 'Male' in col]\n",
    "\n",
    "# Group the data by 'Country of asylum' and sum the numeric values\n",
    "grouped_data = df.groupby('Country of asylum')[age_gender_columns].sum()\n",
    "\n",
    "# Plotting the stacked bar chart\n",
    "plt.figure(figsize=(10, 6))\n",
    "grouped_data.plot(kind='bar', stacked=True)\n",
    "plt.title('Population by Gender and Age Group in Countries of Asylum')\n",
    "plt.xlabel('Country of Asylum')\n",
    "plt.ylabel('Population')\n",
    "plt.xticks(rotation=90)\n",
    "plt.tight_layout()  # This adjusts the plot to ensure everything fits without overlapping\n",
    "\n",
    "# Save the plot to a file\n",
    "plt.savefig('population_bar_chart.png', dpi=300)\n",
    "\n",
    "# Show the plot\n",
    "plt.show()\n"
   ]
  }
 ],
 "metadata": {
  "kernelspec": {
   "display_name": "ai",
   "language": "python",
   "name": "ai"
  },
  "language_info": {
   "codemirror_mode": {
    "name": "ipython",
    "version": 3
   },
   "file_extension": ".py",
   "mimetype": "text/x-python",
   "name": "python",
   "nbconvert_exporter": "python",
   "pygments_lexer": "ipython3",
   "version": "3.11.4"
  }
 },
 "nbformat": 4,
 "nbformat_minor": 5
}
